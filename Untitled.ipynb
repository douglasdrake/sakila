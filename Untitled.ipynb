{
 "cells": [
  {
   "cell_type": "code",
   "execution_count": 1,
   "metadata": {},
   "outputs": [],
   "source": [
    "# Python SQL toolkit and Object Relational Mapper\n",
    "import sqlalchemy\n",
    "from sqlalchemy.ext.automap import automap_base\n",
    "from sqlalchemy.orm import Session\n",
    "from sqlalchemy import create_engine"
   ]
  },
  {
   "cell_type": "code",
   "execution_count": 2,
   "metadata": {},
   "outputs": [],
   "source": [
    "# Connect to the sakila database\n",
    "engine = create_engine('sqlite:///../sqlite-sakila.db')"
   ]
  },
  {
   "cell_type": "code",
   "execution_count": 3,
   "metadata": {},
   "outputs": [],
   "source": [
    "# Declare a Base using `automap_base()`\n",
    "Base = automap_base()"
   ]
  },
  {
   "cell_type": "code",
   "execution_count": 4,
   "metadata": {},
   "outputs": [],
   "source": [
    "# Use the Base class to reflect the database tables\n",
    "Base.prepare(engine, reflect=True)"
   ]
  },
  {
   "cell_type": "code",
   "execution_count": 5,
   "metadata": {},
   "outputs": [
    {
     "data": {
      "text/plain": [
       "['actor',\n",
       " 'address',\n",
       " 'city',\n",
       " 'country',\n",
       " 'category',\n",
       " 'customer',\n",
       " 'store',\n",
       " 'staff',\n",
       " 'film',\n",
       " 'language',\n",
       " 'film_actor',\n",
       " 'film_category',\n",
       " 'film_text',\n",
       " 'inventory',\n",
       " 'payment',\n",
       " 'rental']"
      ]
     },
     "execution_count": 5,
     "metadata": {},
     "output_type": "execute_result"
    }
   ],
   "source": [
    "# List the tables in the database\n",
    "Base.classes.keys()"
   ]
  },
  {
   "cell_type": "code",
   "execution_count": 6,
   "metadata": {},
   "outputs": [],
   "source": [
    "# Assign the actor class to the variable Actor\n",
    "Actor = Base.classes.actor"
   ]
  },
  {
   "cell_type": "code",
   "execution_count": 7,
   "metadata": {},
   "outputs": [],
   "source": [
    "# Create a session\n",
    "session = Session(engine)"
   ]
  },
  {
   "cell_type": "code",
   "execution_count": 10,
   "metadata": {},
   "outputs": [
    {
     "data": {
      "text/plain": [
       "{'_sa_instance_state': <sqlalchemy.orm.state.InstanceState at 0x173df0a8a20>,\n",
       " 'last_name': 'GUINESS',\n",
       " 'actor_id': 1,\n",
       " 'last_update': datetime.datetime(2019, 4, 11, 18, 11, 48),\n",
       " 'first_name': 'PENELOPE'}"
      ]
     },
     "execution_count": 10,
     "metadata": {},
     "output_type": "execute_result"
    }
   ],
   "source": [
    "# Look at the first row of the actor table\n",
    "first_row = session.query(Actor).first()\n",
    "first_row.__dict__"
   ]
  },
  {
   "cell_type": "code",
   "execution_count": 11,
   "metadata": {},
   "outputs": [
    {
     "name": "stdout",
     "output_type": "stream",
     "text": [
      "PENELOPE GUINESS\n",
      "NICK WAHLBERG\n",
      "ED CHASE\n",
      "JENNIFER DAVIS\n",
      "JOHNNY LOLLOBRIGIDA\n",
      "BETTE NICHOLSON\n",
      "GRACE MOSTEL\n",
      "MATTHEW JOHANSSON\n",
      "JOE SWANK\n",
      "CHRISTIAN GABLE\n",
      "ZERO CAGE\n",
      "KARL BERRY\n",
      "UMA WOOD\n",
      "VIVIEN BERGEN\n",
      "CUBA OLIVIER\n",
      "FRED COSTNER\n",
      "HELEN VOIGHT\n",
      "DAN TORN\n",
      "BOB FAWCETT\n",
      "LUCILLE TRACY\n",
      "KIRSTEN PALTROW\n",
      "ELVIS MARX\n",
      "SANDRA KILMER\n",
      "CAMERON STREEP\n",
      "KEVIN BLOOM\n",
      "RIP CRAWFORD\n",
      "JULIA MCQUEEN\n",
      "WOODY HOFFMAN\n",
      "ALEC WAYNE\n",
      "SANDRA PECK\n",
      "SISSY SOBIESKI\n",
      "TIM HACKMAN\n",
      "MILLA PECK\n",
      "AUDREY OLIVIER\n",
      "JUDY DEAN\n",
      "BURT DUKAKIS\n",
      "VAL BOLGER\n",
      "TOM MCKELLEN\n",
      "GOLDIE BRODY\n",
      "JOHNNY CAGE\n",
      "JODIE DEGENERES\n",
      "TOM MIRANDA\n",
      "KIRK JOVOVICH\n",
      "NICK STALLONE\n",
      "REESE KILMER\n",
      "PARKER GOLDBERG\n",
      "JULIA BARRYMORE\n",
      "FRANCES DAY-LEWIS\n",
      "ANNE CRONYN\n",
      "NATALIE HOPKINS\n",
      "GARY PHOENIX\n",
      "CARMEN HUNT\n",
      "MENA TEMPLE\n",
      "PENELOPE PINKETT\n",
      "FAY KILMER\n",
      "DAN HARRIS\n",
      "JUDE CRUISE\n",
      "CHRISTIAN AKROYD\n",
      "DUSTIN TAUTOU\n",
      "HENRY BERRY\n",
      "CHRISTIAN NEESON\n",
      "JAYNE NEESON\n",
      "CAMERON WRAY\n",
      "RAY JOHANSSON\n",
      "ANGELA HUDSON\n",
      "MARY TANDY\n",
      "JESSICA BAILEY\n",
      "RIP WINSLET\n",
      "KENNETH PALTROW\n",
      "MICHELLE MCCONAUGHEY\n",
      "ADAM GRANT\n",
      "SEAN WILLIAMS\n",
      "GARY PENN\n",
      "MILLA KEITEL\n",
      "BURT POSEY\n",
      "ANGELINA ASTAIRE\n",
      "CARY MCCONAUGHEY\n",
      "GROUCHO SINATRA\n",
      "MAE HOFFMAN\n",
      "RALPH CRUZ\n",
      "SCARLETT DAMON\n",
      "WOODY JOLIE\n",
      "BEN WILLIS\n",
      "JAMES PITT\n",
      "MINNIE ZELLWEGER\n",
      "GREG CHAPLIN\n",
      "SPENCER PECK\n",
      "KENNETH PESCI\n",
      "CHARLIZE DENCH\n",
      "SEAN GUINESS\n",
      "CHRISTOPHER BERRY\n",
      "KIRSTEN AKROYD\n",
      "ELLEN PRESLEY\n",
      "KENNETH TORN\n",
      "DARYL WAHLBERG\n",
      "GENE WILLIS\n",
      "MEG HAWKE\n",
      "CHRIS BRIDGES\n",
      "JIM MOSTEL\n",
      "SPENCER DEPP\n",
      "SUSAN DAVIS\n",
      "WALTER TORN\n",
      "MATTHEW LEIGH\n",
      "PENELOPE CRONYN\n",
      "SIDNEY CROWE\n",
      "GROUCHO DUNST\n",
      "GINA DEGENERES\n",
      "WARREN NOLTE\n",
      "SYLVESTER DERN\n",
      "SUSAN DAVIS\n",
      "CAMERON ZELLWEGER\n",
      "RUSSELL BACALL\n",
      "MORGAN HOPKINS\n",
      "MORGAN MCDORMAND\n",
      "HARRISON BALE\n",
      "DAN STREEP\n",
      "RENEE TRACY\n",
      "CUBA ALLEN\n",
      "WARREN JACKMAN\n",
      "PENELOPE MONROE\n",
      "LIZA BERGMAN\n",
      "SALMA NOLTE\n",
      "JULIANNE DENCH\n",
      "SCARLETT BENING\n",
      "ALBERT NOLTE\n",
      "FRANCES TOMEI\n",
      "KEVIN GARLAND\n",
      "CATE MCQUEEN\n",
      "DARYL CRAWFORD\n",
      "GRETA KEITEL\n",
      "JANE JACKMAN\n",
      "ADAM HOPPER\n",
      "RICHARD PENN\n",
      "GENE HOPKINS\n",
      "RITA REYNOLDS\n",
      "ED MANSFIELD\n",
      "MORGAN WILLIAMS\n",
      "LUCILLE DEE\n",
      "EWAN GOODING\n",
      "WHOOPI HURT\n",
      "CATE HARRIS\n",
      "JADA RYDER\n",
      "RIVER DEAN\n",
      "ANGELA WITHERSPOON\n",
      "KIM ALLEN\n",
      "ALBERT JOHANSSON\n",
      "FAY WINSLET\n",
      "EMILY DEE\n",
      "RUSSELL TEMPLE\n",
      "JAYNE NOLTE\n",
      "GEOFFREY HESTON\n",
      "BEN HARRIS\n",
      "MINNIE KILMER\n",
      "MERYL GIBSON\n",
      "IAN TANDY\n",
      "FAY WOOD\n",
      "GRETA MALDEN\n",
      "VIVIEN BASINGER\n",
      "LAURA BRODY\n",
      "CHRIS DEPP\n",
      "HARVEY HOPE\n",
      "OPRAH KILMER\n",
      "CHRISTOPHER WEST\n",
      "HUMPHREY WILLIS\n",
      "AL GARLAND\n",
      "NICK DEGENERES\n",
      "LAURENCE BULLOCK\n",
      "WILL WILSON\n",
      "KENNETH HOFFMAN\n",
      "MENA HOPPER\n",
      "OLYMPIA PFEIFFER\n",
      "GROUCHO WILLIAMS\n",
      "ALAN DREYFUSS\n",
      "MICHAEL BENING\n",
      "WILLIAM HACKMAN\n",
      "JON CHASE\n",
      "GENE MCKELLEN\n",
      "LISA MONROE\n",
      "ED GUINESS\n",
      "JEFF SILVERSTONE\n",
      "MATTHEW CARREY\n",
      "DEBBIE AKROYD\n",
      "RUSSELL CLOSE\n",
      "HUMPHREY GARLAND\n",
      "MICHAEL BOLGER\n",
      "JULIA ZELLWEGER\n",
      "RENEE BALL\n",
      "ROCK DUKAKIS\n",
      "CUBA BIRCH\n",
      "AUDREY BAILEY\n",
      "GREGORY GOODING\n",
      "JOHN SUVARI\n",
      "BURT TEMPLE\n",
      "MERYL ALLEN\n",
      "JAYNE SILVERSTONE\n",
      "BELA WALKEN\n",
      "REESE WEST\n",
      "MARY KEITEL\n",
      "JULIA FAWCETT\n",
      "THORA TEMPLE\n"
     ]
    }
   ],
   "source": [
    "# 1a. Display the first and last names of all actors from the table actor.\n",
    "query = session.query(Actor)\n",
    "\n",
    "for row in query:\n",
    "    print(row.first_name, row.last_name)"
   ]
  },
  {
   "cell_type": "code",
   "execution_count": 14,
   "metadata": {},
   "outputs": [
    {
     "ename": "TypeError",
     "evalue": "can only concatenate list (not \"str\") to list",
     "output_type": "error",
     "traceback": [
      "\u001b[1;31m---------------------------------------------------------------------------\u001b[0m",
      "\u001b[1;31mTypeError\u001b[0m                                 Traceback (most recent call last)",
      "\u001b[1;32m<ipython-input-14-f8881953719d>\u001b[0m in \u001b[0;36m<module>\u001b[1;34m\u001b[0m\n\u001b[0;32m      5\u001b[0m \u001b[0mfirst_name\u001b[0m \u001b[1;33m=\u001b[0m \u001b[1;33m[\u001b[0m\u001b[0my\u001b[0m \u001b[1;32mfor\u001b[0m \u001b[0my\u001b[0m\u001b[1;33m,\u001b[0m \u001b[0mz\u001b[0m \u001b[1;32min\u001b[0m \u001b[0mquery\u001b[0m\u001b[1;33m]\u001b[0m\u001b[1;33m\u001b[0m\u001b[1;33m\u001b[0m\u001b[0m\n\u001b[0;32m      6\u001b[0m \u001b[0mlast_name\u001b[0m \u001b[1;33m=\u001b[0m \u001b[1;33m[\u001b[0m\u001b[0mz\u001b[0m \u001b[1;32mfor\u001b[0m \u001b[0my\u001b[0m\u001b[1;33m,\u001b[0m \u001b[0mz\u001b[0m \u001b[1;32min\u001b[0m \u001b[0mquery\u001b[0m\u001b[1;33m]\u001b[0m\u001b[1;33m\u001b[0m\u001b[1;33m\u001b[0m\u001b[0m\n\u001b[1;32m----> 7\u001b[1;33m \u001b[0mactor_name\u001b[0m \u001b[1;33m=\u001b[0m \u001b[0mfirst_name\u001b[0m \u001b[1;33m+\u001b[0m \u001b[1;34m' '\u001b[0m \u001b[1;33m+\u001b[0m \u001b[0mlast_name\u001b[0m\u001b[1;33m\u001b[0m\u001b[1;33m\u001b[0m\u001b[0m\n\u001b[0m",
      "\u001b[1;31mTypeError\u001b[0m: can only concatenate list (not \"str\") to list"
     ]
    }
   ],
   "source": [
    "# 1b.  Display the first and last name of each actor in a single column in upper case letters. Name the column Actor Name\n",
    "query = session.query(Actor.first_name, Actor.last_name).all()\n",
    "\n",
    "#query\n",
    "actor_name = [y +  ' ' + z for y, z in query]\n",
    "last_name = [z for y, z in query]\n",
    "actor_name = first_name + ' ' + last_name"
   ]
  },
  {
   "cell_type": "code",
   "execution_count": null,
   "metadata": {},
   "outputs": [],
   "source": []
  }
 ],
 "metadata": {
  "kernelspec": {
   "display_name": "Python [conda env:PythonData]",
   "language": "python",
   "name": "conda-env-PythonData-py"
  },
  "language_info": {
   "codemirror_mode": {
    "name": "ipython",
    "version": 3
   },
   "file_extension": ".py",
   "mimetype": "text/x-python",
   "name": "python",
   "nbconvert_exporter": "python",
   "pygments_lexer": "ipython3",
   "version": "3.6.7"
  }
 },
 "nbformat": 4,
 "nbformat_minor": 2
}
